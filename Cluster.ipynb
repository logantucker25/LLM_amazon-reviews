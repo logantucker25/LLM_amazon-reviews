{
 "cells": [
  {
   "cell_type": "markdown",
   "metadata": {},
   "source": [
    "Logan Tucker\n",
    "Task 3 : Clustering\n",
    "CS74 \n",
    "S23"
   ]
  },
  {
   "cell_type": "code",
   "execution_count": 46,
   "metadata": {},
   "outputs": [
    {
     "name": "stdout",
     "output_type": "stream",
     "text": [
      "# clusters:\n",
      "6\n"
     ]
    },
    {
     "name": "stderr",
     "output_type": "stream",
     "text": [
      "/Users/logantucker/anaconda3/lib/python3.10/site-packages/sklearn/cluster/_kmeans.py:870: FutureWarning: The default value of `n_init` will change from 10 to 'auto' in 1.4. Set the value of `n_init` explicitly to suppress the warning\n",
      "  warnings.warn(\n"
     ]
    },
    {
     "name": "stdout",
     "output_type": "stream",
     "text": [
      "\n",
      "Silhouette score:\n",
      "0.620282301196122\n",
      "\n",
      "Rand score:\n",
      "0.0020160264666553\n"
     ]
    }
   ],
   "source": [
    "from sklearn.cluster import KMeans\n",
    "from sklearn.metrics import silhouette_score, adjusted_rand_score\n",
    "import pandas as pd\n",
    "\n",
    "# upload Training.csv and Test.csv \n",
    "test = pd.read_csv('Test.csv')\n",
    "test.head()\n",
    "\n",
    "# account for blank spots\n",
    "test.fillna('', inplace = True)\n",
    "\n",
    "# Set the number of clusters based on the unique categories\n",
    "num_clusters = len(np.unique(y))\n",
    "print('# clusters:')\n",
    "print(num_clusters)\n",
    "\n",
    "# set x\n",
    "x = test['reviewText']\n",
    "labels = test['category']\n",
    "\n",
    "# cluster\n",
    "def km_cluster(n):\n",
    "    vectorizer = TfidfVectorizer(stop_words='english', max_df = .9, ngram_range= (1,3), max_features = 7)\n",
    "    cluster_vect = vectorizer.fit_transform(x)\n",
    "\n",
    "    km = KMeans(n_clusters = n, random_state=16)\n",
    "    km.fit(cluster_vect)\n",
    "\n",
    "    cluster_pred = km.predict(cluster_vect)\n",
    "\n",
    "    print('\\nSilhouette score:')\n",
    "    print(silhouette_score(cluster_vect, cluster_pred))\n",
    "\n",
    "    print('\\nRand score:')\n",
    "    print(adjusted_rand_score(cluster_pred, labels))\n",
    "\n",
    "# call\n",
    "km_cluster(num_clusters)\n"
   ]
  }
 ],
 "metadata": {
  "kernelspec": {
   "display_name": "Python 3.10.9 ('base')",
   "language": "python",
   "name": "python3"
  },
  "language_info": {
   "codemirror_mode": {
    "name": "ipython",
    "version": 3
   },
   "file_extension": ".py",
   "mimetype": "text/x-python",
   "name": "python",
   "nbconvert_exporter": "python",
   "pygments_lexer": "ipython3",
   "version": "3.10.9"
  },
  "orig_nbformat": 4,
  "vscode": {
   "interpreter": {
    "hash": "37d5838acf7412d52d2218a2c617f4d17188a79de14a5eefc87d0e41a4e00d29"
   }
  }
 },
 "nbformat": 4,
 "nbformat_minor": 2
}
