{
 "cells": [
  {
   "cell_type": "markdown",
   "metadata": {},
   "source": [
    "Logan Tucker\n",
    "Task 2 : Multi-class Classification\n",
    "CS74 \n",
    "S23"
   ]
  },
  {
   "cell_type": "markdown",
   "metadata": {},
   "source": [
    "# Prep Phase\n",
    "    step 1) load in data \n",
    "    step 3) clean data\n",
    "    step 4) vectorize"
   ]
  },
  {
   "cell_type": "markdown",
   "metadata": {},
   "source": [
    "Load in data\n",
    "***************************************************************************************************************************************************************************"
   ]
  },
  {
   "cell_type": "code",
   "execution_count": 6,
   "metadata": {},
   "outputs": [
    {
     "data": {
      "text/html": [
       "<div>\n",
       "<style scoped>\n",
       "    .dataframe tbody tr th:only-of-type {\n",
       "        vertical-align: middle;\n",
       "    }\n",
       "\n",
       "    .dataframe tbody tr th {\n",
       "        vertical-align: top;\n",
       "    }\n",
       "\n",
       "    .dataframe thead th {\n",
       "        text-align: right;\n",
       "    }\n",
       "</style>\n",
       "<table border=\"1\" class=\"dataframe\">\n",
       "  <thead>\n",
       "    <tr style=\"text-align: right;\">\n",
       "      <th></th>\n",
       "      <th>overall</th>\n",
       "      <th>verified</th>\n",
       "      <th>reviewTime</th>\n",
       "      <th>reviewerID</th>\n",
       "      <th>asin</th>\n",
       "      <th>reviewerName</th>\n",
       "      <th>reviewText</th>\n",
       "      <th>summary</th>\n",
       "      <th>unixReviewTime</th>\n",
       "      <th>vote</th>\n",
       "      <th>image</th>\n",
       "      <th>style</th>\n",
       "      <th>category</th>\n",
       "    </tr>\n",
       "  </thead>\n",
       "  <tbody>\n",
       "    <tr>\n",
       "      <th>0</th>\n",
       "      <td>1</td>\n",
       "      <td>False</td>\n",
       "      <td>11 12, 2016</td>\n",
       "      <td>C413C78E10E54C5DB41837889F36C1E8</td>\n",
       "      <td>565D194F38B1CC3F806EE677C61F639C</td>\n",
       "      <td>465E154EC79AFFAB5EB2607198B21433</td>\n",
       "      <td>all of the reviews for this product are fake.</td>\n",
       "      <td>All fake reviews, beware.</td>\n",
       "      <td>1478908800</td>\n",
       "      <td>2.0</td>\n",
       "      <td>NaN</td>\n",
       "      <td>{'Size:': ' Polaris H4'}</td>\n",
       "      <td>automotive</td>\n",
       "    </tr>\n",
       "    <tr>\n",
       "      <th>1</th>\n",
       "      <td>1</td>\n",
       "      <td>True</td>\n",
       "      <td>12 6, 2016</td>\n",
       "      <td>490AE37808EFEE3AF4FE6DEBDEB5A4C8</td>\n",
       "      <td>0D66512A0A7F580523AB996378DF0F14</td>\n",
       "      <td>760C63E8E5E8DC3FAA01878D37BA5678</td>\n",
       "      <td>wrong part. our fault.</td>\n",
       "      <td>One Star</td>\n",
       "      <td>1480982400</td>\n",
       "      <td>NaN</td>\n",
       "      <td>NaN</td>\n",
       "      <td>NaN</td>\n",
       "      <td>automotive</td>\n",
       "    </tr>\n",
       "    <tr>\n",
       "      <th>2</th>\n",
       "      <td>1</td>\n",
       "      <td>True</td>\n",
       "      <td>09 17, 2014</td>\n",
       "      <td>74A9FA5A64449BEE2A2E8E3F62872F0F</td>\n",
       "      <td>A0E45600FF2C5A779CB4314F379C253A</td>\n",
       "      <td>C6E4DD5C1C4EC09E90182644ED6CA9EF</td>\n",
       "      <td>this wire set it really sucks!!!</td>\n",
       "      <td>One Star</td>\n",
       "      <td>1410912000</td>\n",
       "      <td>NaN</td>\n",
       "      <td>NaN</td>\n",
       "      <td>NaN</td>\n",
       "      <td>automotive</td>\n",
       "    </tr>\n",
       "    <tr>\n",
       "      <th>3</th>\n",
       "      <td>1</td>\n",
       "      <td>True</td>\n",
       "      <td>06 11, 2016</td>\n",
       "      <td>EB561158A2829D98B467FE03CC1E45F1</td>\n",
       "      <td>37AB9A82470595E0ACB88BAC48C150EE</td>\n",
       "      <td>F4892A77EA45C52F40AB17ED537EF9FF</td>\n",
       "      <td>first use, it leaked instantly. even at 5 buck...</td>\n",
       "      <td>One Star</td>\n",
       "      <td>1465603200</td>\n",
       "      <td>NaN</td>\n",
       "      <td>NaN</td>\n",
       "      <td>{'Color:': ' Clear', 'Style:': ' 45 Degree'}</td>\n",
       "      <td>automotive</td>\n",
       "    </tr>\n",
       "    <tr>\n",
       "      <th>4</th>\n",
       "      <td>1</td>\n",
       "      <td>True</td>\n",
       "      <td>12 23, 2017</td>\n",
       "      <td>5045D801332850D21618DD13A697CD9B</td>\n",
       "      <td>5772FF30428EEB8E0258C1A53CA2EC50</td>\n",
       "      <td>522F0BBFF2B47F1D63FF781A0AB1D079</td>\n",
       "      <td>didn't fit</td>\n",
       "      <td>One Star</td>\n",
       "      <td>1513987200</td>\n",
       "      <td>NaN</td>\n",
       "      <td>NaN</td>\n",
       "      <td>NaN</td>\n",
       "      <td>automotive</td>\n",
       "    </tr>\n",
       "  </tbody>\n",
       "</table>\n",
       "</div>"
      ],
      "text/plain": [
       "   overall  verified   reviewTime                        reviewerID  \\\n",
       "0        1     False  11 12, 2016  C413C78E10E54C5DB41837889F36C1E8   \n",
       "1        1      True   12 6, 2016  490AE37808EFEE3AF4FE6DEBDEB5A4C8   \n",
       "2        1      True  09 17, 2014  74A9FA5A64449BEE2A2E8E3F62872F0F   \n",
       "3        1      True  06 11, 2016  EB561158A2829D98B467FE03CC1E45F1   \n",
       "4        1      True  12 23, 2017  5045D801332850D21618DD13A697CD9B   \n",
       "\n",
       "                               asin                      reviewerName  \\\n",
       "0  565D194F38B1CC3F806EE677C61F639C  465E154EC79AFFAB5EB2607198B21433   \n",
       "1  0D66512A0A7F580523AB996378DF0F14  760C63E8E5E8DC3FAA01878D37BA5678   \n",
       "2  A0E45600FF2C5A779CB4314F379C253A  C6E4DD5C1C4EC09E90182644ED6CA9EF   \n",
       "3  37AB9A82470595E0ACB88BAC48C150EE  F4892A77EA45C52F40AB17ED537EF9FF   \n",
       "4  5772FF30428EEB8E0258C1A53CA2EC50  522F0BBFF2B47F1D63FF781A0AB1D079   \n",
       "\n",
       "                                          reviewText  \\\n",
       "0      all of the reviews for this product are fake.   \n",
       "1                             wrong part. our fault.   \n",
       "2                   this wire set it really sucks!!!   \n",
       "3  first use, it leaked instantly. even at 5 buck...   \n",
       "4                                         didn't fit   \n",
       "\n",
       "                     summary  unixReviewTime  vote image  \\\n",
       "0  All fake reviews, beware.      1478908800   2.0   NaN   \n",
       "1                   One Star      1480982400   NaN   NaN   \n",
       "2                   One Star      1410912000   NaN   NaN   \n",
       "3                   One Star      1465603200   NaN   NaN   \n",
       "4                   One Star      1513987200   NaN   NaN   \n",
       "\n",
       "                                          style    category  \n",
       "0                      {'Size:': ' Polaris H4'}  automotive  \n",
       "1                                           NaN  automotive  \n",
       "2                                           NaN  automotive  \n",
       "3  {'Color:': ' Clear', 'Style:': ' 45 Degree'}  automotive  \n",
       "4                                           NaN  automotive  "
      ]
     },
     "execution_count": 6,
     "metadata": {},
     "output_type": "execute_result"
    }
   ],
   "source": [
    "import pandas as pd\n",
    "import numpy as np\n",
    "\n",
    "# upload Training.csv and Test.csv \n",
    "training = pd.read_csv('Training.csv')\n",
    "test = pd.read_csv('Test.csv')\n",
    "\n",
    "training.head()"
   ]
  },
  {
   "cell_type": "markdown",
   "metadata": {},
   "source": [
    "Clean data\n",
    "***************************************************************************************************************************************************************************"
   ]
  },
  {
   "cell_type": "code",
   "execution_count": 7,
   "metadata": {},
   "outputs": [],
   "source": [
    "# account for blank spots\n",
    "training.fillna('', inplace = True)\n",
    "test.fillna('', inplace = True)"
   ]
  },
  {
   "cell_type": "markdown",
   "metadata": {},
   "source": [
    "Vectorize data\n",
    "***************************************************************************************************************************************************************************"
   ]
  },
  {
   "cell_type": "code",
   "execution_count": 8,
   "metadata": {},
   "outputs": [],
   "source": [
    "from sklearn.model_selection import train_test_split\n",
    "from sklearn.feature_extraction.text import TfidfVectorizer\n",
    "from scipy.sparse import hstack\n",
    "\n",
    "# set up train test split\n",
    "x1 = training['reviewText']\n",
    "x2 = training['summary']\n",
    "y = training['overall']\n",
    "\n",
    "# vectorize the text \n",
    "vectorizer1 = TfidfVectorizer(ngram_range = (1, 2))\n",
    "vectorizer2 = TfidfVectorizer(ngram_range = (1, 2))\n",
    "\n",
    "# get review text frequency dict\n",
    "x1 = vectorizer1.fit_transform(x1)\n",
    "x2 = vectorizer2.fit_transform(x2)\n",
    "\n",
    "x = hstack((x1, x2))\n",
    "\n",
    "# create train test split for cross\n",
    "train_x_tf, test_x_tf, train_y, test_y = train_test_split(x, y, test_size=.1, random_state=16)\n"
   ]
  },
  {
   "cell_type": "markdown",
   "metadata": {},
   "source": [
    "# Classifier #1 : Naive bayes\n",
    "    step 1) train\n",
    "    step 2) report\n",
    "    step 3) tune\n",
    "    step 4) report"
   ]
  },
  {
   "cell_type": "code",
   "execution_count": 9,
   "metadata": {},
   "outputs": [
    {
     "name": "stdout",
     "output_type": "stream",
     "text": [
      "Accuracy: \n",
      "\n",
      "0.5693730729701952\n"
     ]
    }
   ],
   "source": [
    "# perform naive bayes \n",
    "from sklearn.naive_bayes import MultinomialNB\n",
    "from sklearn.metrics import accuracy_score\n",
    "\n",
    "nb = MultinomialNB()\n",
    "nb.fit(train_x_tf, train_y)\n",
    "\n",
    "# predict the label of the test samples here using the model\n",
    "test_predicted_nb = nb.predict(test_x_tf)\n",
    "\n",
    "# get model acuracy score\n",
    "print(\"Accuracy: \\n\")\n",
    "print(accuracy_score(test_y, test_predicted_nb))\n"
   ]
  },
  {
   "cell_type": "markdown",
   "metadata": {},
   "source": [
    "PRE - tune report\n",
    "***************************************************************************************************************************************************************************"
   ]
  },
  {
   "cell_type": "code",
   "execution_count": 10,
   "metadata": {},
   "outputs": [
    {
     "name": "stdout",
     "output_type": "stream",
     "text": [
      "Confusion Matrix:\n",
      "\n",
      "[[355 175  35   9   4]\n",
      " [ 91 378 108  27   1]\n",
      " [ 32 165 304 100   3]\n",
      " [ 17  60 119 346  33]\n",
      " [  8  49  32 189 279]]\n",
      "\n",
      "\n",
      "Macro F1-score: 0.58\n",
      "\n",
      "ROC AUC: \n",
      "0.8738595514453742\n",
      "\n",
      "Classification report: \n",
      "\n",
      "              precision    recall  f1-score   support\n",
      "\n",
      "           1       0.61      0.71      0.66       503\n",
      "           2       0.62      0.46      0.53       827\n",
      "           3       0.50      0.51      0.51       598\n",
      "           4       0.60      0.52      0.56       671\n",
      "           5       0.50      0.87      0.64       320\n",
      "\n",
      "    accuracy                           0.57      2919\n",
      "   macro avg       0.57      0.61      0.58      2919\n",
      "weighted avg       0.58      0.57      0.56      2919\n",
      "\n"
     ]
    }
   ],
   "source": [
    "from sklearn.metrics import roc_auc_score, classification_report, accuracy_score, precision_score, recall_score, f1_score, confusion_matrix\n",
    "import matplotlib.pyplot as plt\n",
    "\n",
    "# confusion matrix\n",
    "confusion = confusion_matrix(test_y, test_predicted_nb)\n",
    "print('Confusion Matrix:\\n')\n",
    "print(confusion)\n",
    "\n",
    "# f1\n",
    "print('\\n\\nMacro F1-score: {:.2f}\\n'.format(f1_score(test_y, test_predicted_nb, average='macro')))\n",
    "\n",
    "# roc auc score\n",
    "print('ROC AUC: ')\n",
    "pred_prob = nb.predict_proba(test_x_tf)\n",
    "print(roc_auc_score(test_y, pred_prob, multi_class = 'ovr'))\n",
    "\n",
    "# classification report\n",
    "print(\"\\nClassification report: \\n\")\n",
    "print(classification_report(test_predicted_nb, test_y))"
   ]
  },
  {
   "cell_type": "markdown",
   "metadata": {},
   "source": [
    "Hypertune\n",
    "***************************************************************************************************************************************************************************"
   ]
  },
  {
   "cell_type": "code",
   "execution_count": 11,
   "metadata": {},
   "outputs": [
    {
     "name": "stdout",
     "output_type": "stream",
     "text": [
      "Best parameters: \n",
      "{'alpha': 1.0, 'fit_prior': False, 'force_alpha': True}\n",
      "\n",
      "Best accuracy: \n",
      "0.5763228016749143\n"
     ]
    }
   ],
   "source": [
    "from sklearn.model_selection import GridSearchCV\n",
    "\n",
    "param_grid_nb = [{\n",
    "    \"alpha\": [0.1, 0.5, 1.0, 1.5, 2.0], \n",
    "    \"force_alpha\": [True, False], \n",
    "    \"fit_prior\": [True, False]\n",
    "}]\n",
    "\n",
    "nb_gs = MultinomialNB()\n",
    "\n",
    "grid_search = GridSearchCV(nb_gs, param_grid_nb, cv=5, scoring=\"accuracy\", return_train_score=True)\n",
    "\n",
    "# train it\n",
    "grid_search.fit(train_x_tf, train_y)\n",
    "\n",
    "# get model with best params\n",
    "best_params_nb = grid_search.best_params_\n",
    "print(\"Best parameters: \")\n",
    "print(best_params_nb)\n",
    "\n",
    "# get best score\n",
    "best_score_nb = grid_search.best_score_\n",
    "print(\"\\nBest accuracy: \")\n",
    "print(best_score_nb)\n",
    "\n",
    "# get predected y of best model\n",
    "tuned_test_predicted_nb = grid_search.predict(test_x_tf)\n"
   ]
  },
  {
   "cell_type": "markdown",
   "metadata": {},
   "source": [
    "POST - tune report\n",
    "***************************************************************************************************************************************************************************"
   ]
  },
  {
   "cell_type": "code",
   "execution_count": 12,
   "metadata": {},
   "outputs": [
    {
     "name": "stdout",
     "output_type": "stream",
     "text": [
      "Confusion Matrix: \n",
      "\n",
      "[[354 175  35  10   4]\n",
      " [ 87 375 113  29   1]\n",
      " [ 32 162 304 101   5]\n",
      " [ 16  56 117 350  36]\n",
      " [  8  43  30 190 286]]\n",
      "\n",
      "Macro F1-score: 0.58\n",
      "\n",
      "ROC AUC: \n",
      "0.8740424729580812\n",
      "\n",
      "Classification report: \n",
      "\n",
      "              precision    recall  f1-score   support\n",
      "\n",
      "           1       0.61      0.71      0.66       497\n",
      "           2       0.62      0.46      0.53       811\n",
      "           3       0.50      0.51      0.51       599\n",
      "           4       0.61      0.51      0.56       680\n",
      "           5       0.51      0.86      0.64       332\n",
      "\n",
      "    accuracy                           0.57      2919\n",
      "   macro avg       0.57      0.61      0.58      2919\n",
      "weighted avg       0.58      0.57      0.57      2919\n",
      "\n"
     ]
    }
   ],
   "source": [
    "# confusion matrix\n",
    "confusion = confusion_matrix(test_y, tuned_test_predicted_nb)\n",
    "print('Confusion Matrix: \\n')\n",
    "print(confusion)\n",
    "\n",
    "# f1\n",
    "print('\\nMacro F1-score: {:.2f}\\n'.format(f1_score(test_y, tuned_test_predicted_nb, average='macro')))\n",
    "\n",
    "# roc auc score\n",
    "print('ROC AUC: ')\n",
    "pred_prob = grid_search.predict_proba(test_x_tf)\n",
    "print(roc_auc_score(test_y, pred_prob, multi_class = 'ovr'))\n",
    "\n",
    "# classification report\n",
    "print(\"\\nClassification report: \\n\")\n",
    "print(classification_report(tuned_test_predicted_nb, test_y))"
   ]
  },
  {
   "cell_type": "markdown",
   "metadata": {},
   "source": [
    "# Classifier #2 : Support vector machines\n",
    "    step 1) train\n",
    "    step 2) report\n",
    "    step 3) tune\n",
    "    step 4) report"
   ]
  },
  {
   "cell_type": "code",
   "execution_count": 13,
   "metadata": {},
   "outputs": [
    {
     "name": "stdout",
     "output_type": "stream",
     "text": [
      "Accuracy: \n",
      "0.6015758821514218\n"
     ]
    }
   ],
   "source": [
    "from sklearn.svm import LinearSVC\n",
    "from sklearn.calibration import CalibratedClassifierCV\n",
    "\n",
    "sv = CalibratedClassifierCV(LinearSVC())\n",
    "sv.fit(train_x_tf, train_y)\n",
    "\n",
    "# predict the label of the test samples here using the model\n",
    "test_predicted_sv = sv.predict(test_x_tf)\n",
    "\n",
    "# get model acuracy score\n",
    "print(\"Accuracy: \")\n",
    "print(accuracy_score(test_y, test_predicted_sv))"
   ]
  },
  {
   "cell_type": "markdown",
   "metadata": {},
   "source": [
    "PRE - tune report\n",
    "***************************************************************************************************************************************************************************"
   ]
  },
  {
   "cell_type": "code",
   "execution_count": 14,
   "metadata": {},
   "outputs": [
    {
     "name": "stdout",
     "output_type": "stream",
     "text": [
      "Confusion Matrix: \n",
      "\n",
      "[[428 100  28  14   8]\n",
      " [140 304 104  38  19]\n",
      " [ 49 106 288 121  40]\n",
      " [ 21  26  93 322 113]\n",
      " [ 11  11  22  99 414]]\n",
      "\n",
      "Macro F1-score: 0.60\n",
      "\n",
      "ROC AUC: \n",
      "0.8726035702972043\n",
      "\n",
      "Classification report: \n",
      "\n",
      "              precision    recall  f1-score   support\n",
      "\n",
      "           1       0.74      0.66      0.70       649\n",
      "           2       0.50      0.56      0.53       547\n",
      "           3       0.48      0.54      0.51       535\n",
      "           4       0.56      0.54      0.55       594\n",
      "           5       0.74      0.70      0.72       594\n",
      "\n",
      "    accuracy                           0.60      2919\n",
      "   macro avg       0.60      0.60      0.60      2919\n",
      "weighted avg       0.61      0.60      0.61      2919\n",
      "\n"
     ]
    }
   ],
   "source": [
    "# confusion matrix\n",
    "confusion = confusion_matrix(test_y, test_predicted_sv)\n",
    "print('Confusion Matrix: \\n')\n",
    "print(confusion)\n",
    "\n",
    "# f1\n",
    "print('\\nMacro F1-score: {:.2f}\\n'.format(f1_score(test_y, test_predicted_sv, average='macro')))\n",
    "\n",
    "# roc auc score\n",
    "print('ROC AUC: ')\n",
    "pred_prob = sv.predict_proba(test_x_tf)\n",
    "print(roc_auc_score(test_y, pred_prob, multi_class = 'ovr'))\n",
    "\n",
    "# classification report\n",
    "print(\"\\nClassification report: \\n\")\n",
    "print(classification_report(test_predicted_sv, test_y))"
   ]
  },
  {
   "cell_type": "markdown",
   "metadata": {},
   "source": [
    "Hypertune\n",
    "***************************************************************************************************************************************************************************"
   ]
  },
  {
   "cell_type": "code",
   "execution_count": 15,
   "metadata": {},
   "outputs": [
    {
     "name": "stdout",
     "output_type": "stream",
     "text": [
      "Best parameters: \n",
      "{'method': 'isotonic'}\n",
      "\n",
      "Best accuracy: \n",
      "0.597487628473544\n"
     ]
    }
   ],
   "source": [
    "param_grid_sv = [{\n",
    "    'method': ['sigmoid', 'isotonic']\n",
    "}]\n",
    "    \n",
    "sv_gs = CalibratedClassifierCV(LinearSVC())\n",
    "\n",
    "grid_search = GridSearchCV(sv_gs, param_grid_sv, cv=5, scoring=\"accuracy\", return_train_score=True)\n",
    "\n",
    "# train it\n",
    "grid_search.fit(train_x_tf, train_y)\n",
    "\n",
    "# get model with best params\n",
    "best_params_sv = grid_search.best_params_\n",
    "print(\"Best parameters: \")\n",
    "print(best_params_sv)\n",
    "\n",
    "# get best score\n",
    "best_score_sv = grid_search.best_score_\n",
    "print(\"\\nBest accuracy: \")\n",
    "print(best_score_sv)\n",
    "\n",
    "# get predected y of best model\n",
    "tuned_test_predicted_sv = grid_search.predict(test_x_tf)"
   ]
  },
  {
   "cell_type": "markdown",
   "metadata": {},
   "source": [
    "POST - tune report\n",
    "***************************************************************************************************************************************************************************"
   ]
  },
  {
   "cell_type": "code",
   "execution_count": 16,
   "metadata": {},
   "outputs": [
    {
     "name": "stdout",
     "output_type": "stream",
     "text": [
      "Confusion Matrix: \n",
      "\n",
      "[[433  98  23  15   9]\n",
      " [156 293  97  38  21]\n",
      " [ 55 108 277 121  43]\n",
      " [ 23  29  76 316 131]\n",
      " [ 10  12  18  89 428]]\n",
      "\n",
      "Macro F1-score: 0.60\n",
      "\n",
      "ROC AUC: \n",
      "0.8723722344615533\n",
      "\n",
      "Classification report: \n",
      "\n",
      "              precision    recall  f1-score   support\n",
      "\n",
      "           1       0.75      0.64      0.69       677\n",
      "           2       0.48      0.54      0.51       540\n",
      "           3       0.46      0.56      0.51       491\n",
      "           4       0.55      0.55      0.55       579\n",
      "           5       0.77      0.68      0.72       632\n",
      "\n",
      "    accuracy                           0.60      2919\n",
      "   macro avg       0.60      0.59      0.60      2919\n",
      "weighted avg       0.62      0.60      0.60      2919\n",
      "\n"
     ]
    }
   ],
   "source": [
    "# confusion matrix\n",
    "confusion = confusion_matrix(test_y, tuned_test_predicted_sv)\n",
    "print('Confusion Matrix: \\n')\n",
    "print(confusion)\n",
    "\n",
    "# f1\n",
    "print('\\nMacro F1-score: {:.2f}\\n'.format(f1_score(test_y, tuned_test_predicted_sv, average='macro')))\n",
    "\n",
    "# roc auc score\n",
    "print('ROC AUC: ')\n",
    "pred_prob = grid_search.predict_proba(test_x_tf)\n",
    "print(roc_auc_score(test_y, pred_prob, multi_class = 'ovr'))\n",
    "\n",
    "# classification report\n",
    "print(\"\\nClassification report: \\n\")\n",
    "print(classification_report(tuned_test_predicted_sv, test_y))"
   ]
  },
  {
   "cell_type": "markdown",
   "metadata": {},
   "source": [
    "# Classifier #3 : K neighbors\n",
    "    step 1) train\n",
    "    step 2) report\n",
    "    step 3) tune\n",
    "    step 4) report"
   ]
  },
  {
   "cell_type": "code",
   "execution_count": 17,
   "metadata": {},
   "outputs": [
    {
     "name": "stdout",
     "output_type": "stream",
     "text": [
      "Accuracy: \n",
      "0.4463857485440219\n"
     ]
    }
   ],
   "source": [
    "from sklearn.neighbors import KNeighborsClassifier\n",
    "\n",
    "kn = KNeighborsClassifier()\n",
    "kn = kn.fit(train_x_tf, train_y)\n",
    "\n",
    "# predict the label of the test samples here using the model\n",
    "test_predicted_kn = kn.predict(test_x_tf)\n",
    "\n",
    "# get model acuracy score\n",
    "print(\"Accuracy: \")\n",
    "print(accuracy_score(test_y, test_predicted_kn))"
   ]
  },
  {
   "cell_type": "markdown",
   "metadata": {},
   "source": [
    "PRE - tune report\n",
    "***************************************************************************************************************************************************************************"
   ]
  },
  {
   "cell_type": "code",
   "execution_count": 18,
   "metadata": {},
   "outputs": [
    {
     "name": "stdout",
     "output_type": "stream",
     "text": [
      "Confusion Matrix: \n",
      "\n",
      "[[379  34  36  90  39]\n",
      " [222 151  61 139  32]\n",
      " [176  33 190 154  51]\n",
      " [111   8  62 298  96]\n",
      " [ 87   4  32 149 285]]\n",
      "\n",
      "Macro F1-score: 0.44\n",
      "\n",
      "ROC AUC: \n",
      "0.7273904214553255\n",
      "\n",
      "Classification report: \n",
      "\n",
      "              precision    recall  f1-score   support\n",
      "\n",
      "           1       0.66      0.39      0.49       975\n",
      "           2       0.25      0.66      0.36       230\n",
      "           3       0.31      0.50      0.39       381\n",
      "           4       0.52      0.36      0.42       830\n",
      "           5       0.51      0.57      0.54       503\n",
      "\n",
      "    accuracy                           0.45      2919\n",
      "   macro avg       0.45      0.49      0.44      2919\n",
      "weighted avg       0.52      0.45      0.46      2919\n",
      "\n"
     ]
    }
   ],
   "source": [
    "# confusion matrix\n",
    "confusion = confusion_matrix(test_y, test_predicted_kn)\n",
    "print('Confusion Matrix: \\n')\n",
    "print(confusion)\n",
    "\n",
    "# f1\n",
    "print('\\nMacro F1-score: {:.2f}\\n'.format(f1_score(test_y, test_predicted_kn, average='macro')))\n",
    "\n",
    "# roc auc score\n",
    "print('ROC AUC: ')\n",
    "pred_prob = kn.predict_proba(test_x_tf)\n",
    "print(roc_auc_score(test_y, pred_prob, multi_class = 'ovr'))\n",
    "\n",
    "# classification report\n",
    "print(\"\\nClassification report: \\n\")\n",
    "print(classification_report(test_predicted_kn, test_y))"
   ]
  },
  {
   "cell_type": "markdown",
   "metadata": {},
   "source": [
    "Hypertune\n",
    "***************************************************************************************************************************************************************************"
   ]
  },
  {
   "cell_type": "code",
   "execution_count": 19,
   "metadata": {},
   "outputs": [
    {
     "name": "stdout",
     "output_type": "stream",
     "text": [
      "Best parameters: \n",
      "{'n_neighbors': 5, 'p': 2}\n",
      "\n",
      "Best accuracy: \n",
      "0.43677207291140263\n"
     ]
    }
   ],
   "source": [
    "param_grid_knn = [{\n",
    "    \"n_neighbors\": [3, 5], \n",
    "    \"p\": [1, 2]\n",
    "}]\n",
    "    \n",
    "knn_gs = KNeighborsClassifier()\n",
    "\n",
    "grid_search = GridSearchCV(knn_gs, param_grid_knn, cv=3, scoring=\"accuracy\", return_train_score=True)\n",
    "\n",
    "# train it\n",
    "grid_search.fit(train_x_tf, train_y)\n",
    "\n",
    "# get model with best params\n",
    "best_params_kn = grid_search.best_params_\n",
    "print(\"Best parameters: \")\n",
    "print(best_params_kn)\n",
    "\n",
    "# get best score\n",
    "best_score_kn = grid_search.best_score_\n",
    "print(\"\\nBest accuracy: \")\n",
    "print(best_score_kn)\n",
    "\n",
    "# get predected y of best model\n",
    "tuned_test_predicted_kn = grid_search.predict(test_x_tf)"
   ]
  },
  {
   "cell_type": "markdown",
   "metadata": {},
   "source": [
    "POST - tune report\n",
    "***************************************************************************************************************************************************************************"
   ]
  },
  {
   "cell_type": "code",
   "execution_count": 20,
   "metadata": {},
   "outputs": [
    {
     "name": "stdout",
     "output_type": "stream",
     "text": [
      "Confusion Matrix: \n",
      "\n",
      "[[379  34  36  90  39]\n",
      " [222 151  61 139  32]\n",
      " [176  33 190 154  51]\n",
      " [111   8  62 298  96]\n",
      " [ 87   4  32 149 285]]\n",
      "\n",
      "Macro F1-score: 0.44\n",
      "\n",
      "ROC AUC: \n",
      "0.7273904214553255\n",
      "\n",
      "Classification report: \n",
      "\n",
      "              precision    recall  f1-score   support\n",
      "\n",
      "           1       0.66      0.39      0.49       975\n",
      "           2       0.25      0.66      0.36       230\n",
      "           3       0.31      0.50      0.39       381\n",
      "           4       0.52      0.36      0.42       830\n",
      "           5       0.51      0.57      0.54       503\n",
      "\n",
      "    accuracy                           0.45      2919\n",
      "   macro avg       0.45      0.49      0.44      2919\n",
      "weighted avg       0.52      0.45      0.46      2919\n",
      "\n"
     ]
    }
   ],
   "source": [
    "# confusion matrix\n",
    "confusion = confusion_matrix(test_y, tuned_test_predicted_kn)\n",
    "print('Confusion Matrix: \\n')\n",
    "print(confusion)\n",
    "\n",
    "# f1\n",
    "print('\\nMacro F1-score: {:.2f}\\n'.format(f1_score(test_y, tuned_test_predicted_kn, average='macro')))\n",
    "\n",
    "# roc auc score\n",
    "print('ROC AUC: ')\n",
    "pred_prob = grid_search.predict_proba(test_x_tf)\n",
    "print(roc_auc_score(test_y, pred_prob, multi_class = 'ovr'))\n",
    "\n",
    "# classification report\n",
    "print(\"\\nClassification report: \\n\")\n",
    "print(classification_report(tuned_test_predicted_kn, test_y))"
   ]
  },
  {
   "cell_type": "markdown",
   "metadata": {},
   "source": [
    "ROC curves of top performing classifier\n",
    "***************************************************************************************************************************************************************************"
   ]
  },
  {
   "cell_type": "code",
   "execution_count": 21,
   "metadata": {},
   "outputs": [
    {
     "data": {
      "text/plain": [
       "<matplotlib.legend.Legend at 0x7fedc9320ee0>"
      ]
     },
     "execution_count": 21,
     "metadata": {},
     "output_type": "execute_result"
    },
    {
     "data": {
      "image/png": "[encoded data removed]",
      "text/plain": [
       "<Figure size 640x480 with 1 Axes>"
      ]
     },
     "metadata": {},
     "output_type": "display_data"
    }
   ],
   "source": [
    "from sklearn.metrics import roc_curve, auc\n",
    "\n",
    "fig, ax = plt.subplots()\n",
    "ax.set_title(\"ROC Curve for SVC\")\n",
    "plt.xlabel('False Positive Rate')\n",
    "plt.ylabel('True Positive Rate')\n",
    "\n",
    "fpr_list = []\n",
    "tpr_list = []\n",
    "\n",
    "for rating in [1, 2, 3, 4, 5]:\n",
    "  pred_y_binary = [1 if y == rating else 0 for y in tuned_test_predicted_sv]\n",
    "  test_y_binary = [1 if y == rating else 0 for y in test_y]\n",
    "    \n",
    "  fpr, tpr, thresholds_NB = roc_curve(test_y_binary, pred_y_binary)\n",
    "\n",
    "  ax.plot(fpr, tpr, label = rating)\n",
    "    \n",
    "  fpr_list.append(fpr)\n",
    "  tpr_list.append(tpr)\n",
    "\n",
    "\n",
    "avg_fpr = np.linspace(0, 1, 200)\n",
    "avg_tpr = np.zeros(len(avg_fpr))\n",
    "\n",
    "for index in [0, 1, 2, 3, 4]:\n",
    "  avg_tpr += np.interp(avg_fpr, fpr_list[index], tpr_list[index])/5\n",
    "\n",
    "ax.plot(avg_fpr, avg_tpr, \"--\", label='Average curve')\n",
    "ax.legend()"
   ]
  }
 ],
 "metadata": {
  "kernelspec": {
   "display_name": "Python 3.10.9 ('base')",
   "language": "python",
   "name": "python3"
  },
  "language_info": {
   "codemirror_mode": {
    "name": "ipython",
    "version": 3
   },
   "file_extension": ".py",
   "mimetype": "text/x-python",
   "name": "python",
   "nbconvert_exporter": "python",
   "pygments_lexer": "ipython3",
   "version": "3.10.9"
  },
  "orig_nbformat": 4,
  "vscode": {
   "interpreter": {
    "hash": "37d5838acf7412d52d2218a2c617f4d17188a79de14a5eefc87d0e41a4e00d29"
   }
  }
 },
 "nbformat": 4,
 "nbformat_minor": 2
}
